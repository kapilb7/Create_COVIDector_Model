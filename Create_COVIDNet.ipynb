{
 "cells": [
  {
   "cell_type": "code",
   "execution_count": null,
   "metadata": {
    "id": "FWIHpQIjVDHg"
   },
   "outputs": [],
   "source": [
    "import matplotlib.pyplot as plt\n",
    "import numpy as np\n",
    "import os\n",
    "import PIL\n",
    "import tensorflow as tf\n",
    "\n",
    "from tensorflow import keras\n",
    "from tensorflow.keras import layers\n",
    "from tensorflow.keras.models import Sequential"
   ]
  },
  {
   "cell_type": "code",
   "execution_count": null,
   "metadata": {
    "colab": {
     "base_uri": "https://localhost:8080/"
    },
    "id": "Auo8qYyZVcuW",
    "outputId": "7dfcb585-e7ce-4941-eae6-00b4cefe2af4"
   },
   "outputs": [
    {
     "name": "stdout",
     "output_type": "stream",
     "text": [
      "Found GPU at: /device:GPU:0\n"
     ]
    }
   ],
   "source": [
    "%tensorflow_version 2.x\n",
    "import tensorflow as tf\n",
    "device_name = tf.test.gpu_device_name()\n",
    "if device_name != '/device:GPU:0':\n",
    "      raise SystemError('GPU device not found')\n",
    "print('Found GPU at: {}'.format(device_name))"
   ]
  },
  {
   "cell_type": "code",
   "execution_count": null,
   "metadata": {
    "colab": {
     "base_uri": "https://localhost:8080/"
    },
    "id": "TB3uWWd5Vex6",
    "outputId": "b7bc0bfb-d625-4345-c5ee-172c252a7254"
   },
   "outputs": [
    {
     "name": "stdout",
     "output_type": "stream",
     "text": [
      "Mounted at /content/drive\n"
     ]
    }
   ],
   "source": [
    "from google.colab import drive\n",
    "drive.mount('/content/drive')"
   ]
  },
  {
   "cell_type": "code",
   "execution_count": null,
   "metadata": {
    "id": "e2IRpTNdVhG-"
   },
   "outputs": [],
   "source": [
    "batch_size = 32\n",
    "img_height = 224\n",
    "img_width = 224"
   ]
  },
  {
   "cell_type": "code",
   "execution_count": null,
   "metadata": {
    "id": "fMrbQefXVoUh"
   },
   "outputs": [],
   "source": [
    "data_dir = '/content/drive/My Drive/COVIDector Dataset/data' #Path to your dataset directory"
   ]
  },
  {
   "cell_type": "code",
   "execution_count": null,
   "metadata": {
    "colab": {
     "base_uri": "https://localhost:8080/"
    },
    "id": "yYRe1PvsVqGL",
    "outputId": "63f63da2-f800-4c0f-e10d-fcf839bed6be"
   },
   "outputs": [
    {
     "name": "stdout",
     "output_type": "stream",
     "text": [
      "Found 15682 files belonging to 2 classes.\n",
      "Using 12546 files for training.\n"
     ]
    }
   ],
   "source": [
    "train_ds = tf.keras.preprocessing.image_dataset_from_directory(\n",
    "  data_dir,\n",
    "  validation_split=0.2,\n",
    "  subset=\"training\",\n",
    "  seed=123,\n",
    "  image_size=(img_height, img_width),\n",
    "  batch_size=batch_size)"
   ]
  },
  {
   "cell_type": "code",
   "execution_count": null,
   "metadata": {
    "colab": {
     "base_uri": "https://localhost:8080/"
    },
    "id": "Xi2VweSgVsEN",
    "outputId": "d3333b2c-850c-4486-bca2-64e2e12f548a"
   },
   "outputs": [
    {
     "name": "stdout",
     "output_type": "stream",
     "text": [
      "Found 15682 files belonging to 2 classes.\n",
      "Using 3136 files for validation.\n"
     ]
    }
   ],
   "source": [
    "val_ds = tf.keras.preprocessing.image_dataset_from_directory(\n",
    "  data_dir,\n",
    "  validation_split=0.2,\n",
    "  subset=\"validation\",\n",
    "  seed=123,\n",
    "  image_size=(img_height, img_width),\n",
    "  batch_size=batch_size)"
   ]
  },
  {
   "cell_type": "code",
   "execution_count": null,
   "metadata": {
    "colab": {
     "base_uri": "https://localhost:8080/"
    },
    "id": "0xZQWHOwWFqk",
    "outputId": "dcf34500-85b7-42cc-903b-a4854d71d003"
   },
   "outputs": [
    {
     "name": "stdout",
     "output_type": "stream",
     "text": [
      "['negative', 'positive']\n"
     ]
    }
   ],
   "source": [
    "class_names = train_ds.class_names\n",
    "print(class_names)"
   ]
  },
  {
   "cell_type": "code",
   "execution_count": null,
   "metadata": {
    "id": "FbsgIL1iWGVY"
   },
   "outputs": [],
   "source": [
    "AUTOTUNE = tf.data.AUTOTUNE\n",
    "\n",
    "train_ds = train_ds.cache().shuffle(1000).prefetch(buffer_size=AUTOTUNE)\n",
    "val_ds = val_ds.cache().prefetch(buffer_size=AUTOTUNE)"
   ]
  },
  {
   "cell_type": "code",
   "execution_count": null,
   "metadata": {
    "id": "nKgo3j5VWIOn"
   },
   "outputs": [],
   "source": [
    "data_augmentation = keras.Sequential(\n",
    "  [\n",
    "    layers.experimental.preprocessing.RandomZoom(0.15),\n",
    "    layers.experimental.preprocessing.RandomContrast(0.15)\n",
    "  ]\n",
    ")"
   ]
  },
  {
   "cell_type": "code",
   "execution_count": null,
   "metadata": {
    "id": "DFdQiJP_WKM-"
   },
   "outputs": [],
   "source": [
    "num_classes = 2\n",
    "model = Sequential([\n",
    "  data_augmentation,\n",
    "  layers.experimental.preprocessing.Rescaling(1./255),\n",
    "  layers.Conv2D(16, 3, padding='same', activation='relu'),\n",
    "  layers.MaxPooling2D(),\n",
    "  layers.Conv2D(32, 3, padding='same', activation='relu'),\n",
    "  layers.MaxPooling2D(),\n",
    "  layers.Conv2D(64, 3, padding='same', activation='relu'),\n",
    "  layers.MaxPooling2D(),\n",
    "  layers.Dropout(0.2),\n",
    "  layers.Flatten(),\n",
    "  layers.Dense(128, activation='relu'),\n",
    "  layers.Dense(num_classes)\n",
    "])"
   ]
  },
  {
   "cell_type": "code",
   "execution_count": null,
   "metadata": {
    "colab": {
     "base_uri": "https://localhost:8080/"
    },
    "id": "oA2OF4R8WM8I",
    "outputId": "8b1d4187-d533-485f-a304-abd4c573dcd8"
   },
   "outputs": [
    {
     "name": "stdout",
     "output_type": "stream",
     "text": [
      "Epoch 1/50\n",
      "393/393 [==============================] - 6327s 3s/step - loss: 0.4802 - accuracy: 0.8731 - val_loss: 0.2211 - val_accuracy: 0.9126\n",
      "Epoch 2/50\n",
      "393/393 [==============================] - 12s 31ms/step - loss: 0.2306 - accuracy: 0.9123 - val_loss: 0.1855 - val_accuracy: 0.9276\n",
      "Epoch 3/50\n",
      "393/393 [==============================] - 12s 30ms/step - loss: 0.2035 - accuracy: 0.9245 - val_loss: 0.1848 - val_accuracy: 0.9353\n",
      "Epoch 4/50\n",
      "393/393 [==============================] - 12s 30ms/step - loss: 0.1788 - accuracy: 0.9300 - val_loss: 0.1755 - val_accuracy: 0.9388\n",
      "Epoch 5/50\n",
      "393/393 [==============================] - 12s 30ms/step - loss: 0.1672 - accuracy: 0.9357 - val_loss: 0.1452 - val_accuracy: 0.9480\n",
      "Epoch 6/50\n",
      "393/393 [==============================] - 12s 30ms/step - loss: 0.1440 - accuracy: 0.9469 - val_loss: 0.1451 - val_accuracy: 0.9436\n",
      "Epoch 7/50\n",
      "393/393 [==============================] - 12s 30ms/step - loss: 0.1294 - accuracy: 0.9529 - val_loss: 0.1346 - val_accuracy: 0.9525\n",
      "Epoch 8/50\n",
      "393/393 [==============================] - 12s 30ms/step - loss: 0.1315 - accuracy: 0.9511 - val_loss: 0.1607 - val_accuracy: 0.9474\n",
      "Epoch 9/50\n",
      "393/393 [==============================] - 12s 30ms/step - loss: 0.1021 - accuracy: 0.9636 - val_loss: 0.1350 - val_accuracy: 0.9531\n",
      "Epoch 10/50\n",
      "393/393 [==============================] - 12s 30ms/step - loss: 0.0973 - accuracy: 0.9650 - val_loss: 0.1488 - val_accuracy: 0.9554\n",
      "Epoch 11/50\n",
      "393/393 [==============================] - 12s 30ms/step - loss: 0.0908 - accuracy: 0.9643 - val_loss: 0.1291 - val_accuracy: 0.9611\n",
      "Epoch 12/50\n",
      "393/393 [==============================] - 12s 30ms/step - loss: 0.0885 - accuracy: 0.9660 - val_loss: 0.1196 - val_accuracy: 0.9630\n",
      "Epoch 13/50\n",
      "393/393 [==============================] - 12s 30ms/step - loss: 0.0760 - accuracy: 0.9730 - val_loss: 0.1314 - val_accuracy: 0.9633\n",
      "Epoch 14/50\n",
      "393/393 [==============================] - 12s 30ms/step - loss: 0.0689 - accuracy: 0.9750 - val_loss: 0.1506 - val_accuracy: 0.9643\n",
      "Epoch 15/50\n",
      "393/393 [==============================] - 12s 30ms/step - loss: 0.0649 - accuracy: 0.9752 - val_loss: 0.1385 - val_accuracy: 0.9585\n",
      "Epoch 16/50\n",
      "393/393 [==============================] - 12s 30ms/step - loss: 0.0626 - accuracy: 0.9769 - val_loss: 0.1482 - val_accuracy: 0.9614\n",
      "Epoch 17/50\n",
      "393/393 [==============================] - 12s 30ms/step - loss: 0.0533 - accuracy: 0.9813 - val_loss: 0.1154 - val_accuracy: 0.9668\n",
      "Epoch 18/50\n",
      "393/393 [==============================] - 12s 30ms/step - loss: 0.0532 - accuracy: 0.9817 - val_loss: 0.1362 - val_accuracy: 0.9681\n",
      "Epoch 19/50\n",
      "393/393 [==============================] - 12s 30ms/step - loss: 0.0454 - accuracy: 0.9836 - val_loss: 0.1298 - val_accuracy: 0.9707\n",
      "Epoch 20/50\n",
      "393/393 [==============================] - 12s 30ms/step - loss: 0.0383 - accuracy: 0.9858 - val_loss: 0.1342 - val_accuracy: 0.9691\n",
      "Epoch 21/50\n",
      "393/393 [==============================] - 12s 30ms/step - loss: 0.0399 - accuracy: 0.9852 - val_loss: 0.1453 - val_accuracy: 0.9649\n",
      "Epoch 22/50\n",
      "393/393 [==============================] - 12s 31ms/step - loss: 0.0409 - accuracy: 0.9843 - val_loss: 0.1749 - val_accuracy: 0.9640\n",
      "Epoch 23/50\n",
      "393/393 [==============================] - 12s 30ms/step - loss: 0.0372 - accuracy: 0.9866 - val_loss: 0.1557 - val_accuracy: 0.9649\n",
      "Epoch 24/50\n",
      "393/393 [==============================] - 12s 31ms/step - loss: 0.0353 - accuracy: 0.9889 - val_loss: 0.1747 - val_accuracy: 0.9649\n",
      "Epoch 25/50\n",
      "393/393 [==============================] - 12s 31ms/step - loss: 0.0321 - accuracy: 0.9891 - val_loss: 0.1445 - val_accuracy: 0.9668\n",
      "Epoch 26/50\n",
      "393/393 [==============================] - 12s 30ms/step - loss: 0.0313 - accuracy: 0.9883 - val_loss: 0.1368 - val_accuracy: 0.9668\n",
      "Epoch 27/50\n",
      "393/393 [==============================] - 12s 30ms/step - loss: 0.0345 - accuracy: 0.9895 - val_loss: 0.1563 - val_accuracy: 0.9729\n",
      "Epoch 28/50\n",
      "393/393 [==============================] - 12s 31ms/step - loss: 0.0226 - accuracy: 0.9927 - val_loss: 0.1401 - val_accuracy: 0.9729\n",
      "Epoch 29/50\n",
      "393/393 [==============================] - 12s 31ms/step - loss: 0.0244 - accuracy: 0.9899 - val_loss: 0.1757 - val_accuracy: 0.9726\n",
      "Epoch 30/50\n",
      "393/393 [==============================] - 12s 31ms/step - loss: 0.0268 - accuracy: 0.9899 - val_loss: 0.1620 - val_accuracy: 0.9643\n",
      "Epoch 31/50\n",
      "393/393 [==============================] - 12s 30ms/step - loss: 0.0205 - accuracy: 0.9918 - val_loss: 0.1625 - val_accuracy: 0.9694\n",
      "Epoch 32/50\n",
      "393/393 [==============================] - 12s 30ms/step - loss: 0.0290 - accuracy: 0.9903 - val_loss: 0.1352 - val_accuracy: 0.9739\n",
      "Epoch 33/50\n",
      "393/393 [==============================] - 12s 31ms/step - loss: 0.0196 - accuracy: 0.9926 - val_loss: 0.1725 - val_accuracy: 0.9723\n",
      "Epoch 34/50\n",
      "393/393 [==============================] - 12s 30ms/step - loss: 0.0228 - accuracy: 0.9924 - val_loss: 0.1621 - val_accuracy: 0.9697\n",
      "Epoch 35/50\n",
      "393/393 [==============================] - 12s 30ms/step - loss: 0.0247 - accuracy: 0.9918 - val_loss: 0.1731 - val_accuracy: 0.9681\n",
      "Epoch 36/50\n",
      "393/393 [==============================] - 12s 30ms/step - loss: 0.0184 - accuracy: 0.9942 - val_loss: 0.2403 - val_accuracy: 0.9662\n",
      "Epoch 37/50\n",
      "393/393 [==============================] - 12s 31ms/step - loss: 0.0231 - accuracy: 0.9922 - val_loss: 0.2113 - val_accuracy: 0.9668\n",
      "Epoch 38/50\n",
      "393/393 [==============================] - 12s 31ms/step - loss: 0.0148 - accuracy: 0.9948 - val_loss: 0.1707 - val_accuracy: 0.9707\n",
      "Epoch 39/50\n",
      "393/393 [==============================] - 12s 31ms/step - loss: 0.0115 - accuracy: 0.9957 - val_loss: 0.2285 - val_accuracy: 0.9640\n",
      "Epoch 40/50\n",
      "393/393 [==============================] - 12s 30ms/step - loss: 0.0187 - accuracy: 0.9952 - val_loss: 0.2220 - val_accuracy: 0.9611\n",
      "Epoch 41/50\n",
      "393/393 [==============================] - 12s 31ms/step - loss: 0.0187 - accuracy: 0.9928 - val_loss: 0.2019 - val_accuracy: 0.9697\n",
      "Epoch 42/50\n",
      "393/393 [==============================] - 12s 31ms/step - loss: 0.0110 - accuracy: 0.9960 - val_loss: 0.1875 - val_accuracy: 0.9723\n",
      "Epoch 43/50\n",
      "393/393 [==============================] - 12s 30ms/step - loss: 0.0164 - accuracy: 0.9944 - val_loss: 0.1624 - val_accuracy: 0.9745\n",
      "Epoch 44/50\n",
      "393/393 [==============================] - 12s 31ms/step - loss: 0.0133 - accuracy: 0.9954 - val_loss: 0.1952 - val_accuracy: 0.9735\n",
      "Epoch 45/50\n",
      "393/393 [==============================] - 12s 30ms/step - loss: 0.0165 - accuracy: 0.9942 - val_loss: 0.1885 - val_accuracy: 0.9700\n",
      "Epoch 46/50\n",
      "393/393 [==============================] - 12s 30ms/step - loss: 0.0168 - accuracy: 0.9946 - val_loss: 0.1688 - val_accuracy: 0.9739\n",
      "Epoch 47/50\n",
      "393/393 [==============================] - 12s 30ms/step - loss: 0.0138 - accuracy: 0.9949 - val_loss: 0.1426 - val_accuracy: 0.9764\n",
      "Epoch 48/50\n",
      "393/393 [==============================] - 12s 31ms/step - loss: 0.0145 - accuracy: 0.9961 - val_loss: 0.1622 - val_accuracy: 0.9770\n",
      "Epoch 49/50\n",
      "393/393 [==============================] - 12s 31ms/step - loss: 0.0134 - accuracy: 0.9953 - val_loss: 0.1941 - val_accuracy: 0.9665\n",
      "Epoch 50/50\n",
      "393/393 [==============================] - 12s 31ms/step - loss: 0.0190 - accuracy: 0.9946 - val_loss: 0.1576 - val_accuracy: 0.9742\n"
     ]
    }
   ],
   "source": [
    "from tensorflow.keras.optimizers import Adam\n",
    "from tensorflow.keras import backend as K\n",
    "\n",
    "#model.summary()\n",
    "lr = 0.001 #Default Learning Rate \n",
    "adam = Adam(lr)\n",
    "\n",
    "# Define the Required Callback Function\n",
    "class printlearningrate(tf.keras.callbacks.Callback):\n",
    "    def on_epoch_end(self, epoch, logs={}):\n",
    "        optimizer = self.model.optimizer\n",
    "        lr = K.eval(optimizer.lr)\n",
    "        Epoch_count = epoch + 1\n",
    "        print('\\n', \"Epoch:\", Epoch_count, ', LR:', lr)\n",
    "\n",
    "printlr = printlearningrate() \n",
    "\n",
    "def lr_schedule(epoch):\n",
    "    learning_rate = 0.001\n",
    "    if epoch > 10:\n",
    "        learning_rate = 0.00075\n",
    "    if epoch > 20:\n",
    "        learning_rate = 0.0005\n",
    "    if epoch > 40:\n",
    "        learning_rate = 0.0001\n",
    "    return learning_rate\n",
    "\n",
    "lr_callback = keras.callbacks.LearningRateScheduler(lr_schedule)\n",
    "\n",
    "model.compile(optimizer=adam, \n",
    "          loss=keras.losses.SparseCategoricalCrossentropy(from_logits=True),\n",
    "          metrics=['accuracy'])\n",
    "\n",
    "epochs = 50\n",
    "history = model.fit(\n",
    "          train_ds,\n",
    "          epochs=epochs,\n",
    "          validation_data=val_ds,\n",
    "          verbose=1,\n",
    "         # callbacks=[printlr, lr_callback] # If you want to decay or change the learning rate and record its history.\n",
    ")"
   ]
  },
  {
   "cell_type": "code",
   "execution_count": null,
   "metadata": {
    "colab": {
     "base_uri": "https://localhost:8080/",
     "height": 499
    },
    "id": "OCScAGSkjy4k",
    "outputId": "5f38ebe9-7086-4e80-c950-32b254bf53be"
   },
   "outputs": [
    {
     "data": {
      "image/png": "[encoded data removed]",
      "text/plain": [
       "<Figure size 576x576 with 2 Axes>"
      ]
     },
     "metadata": {
      "needs_background": "light",
      "tags": []
     },
     "output_type": "display_data"
    }
   ],
   "source": [
    "acc = history.history['accuracy']\n",
    "val_acc = history.history['val_accuracy']\n",
    "\n",
    "loss = history.history['loss']\n",
    "val_loss = history.history['val_loss']\n",
    "#learning_rate = history.history['lr']\n",
    "\n",
    "epochs_range = range(epochs)\n",
    "\n",
    "plt.figure(figsize=(8, 8))\n",
    "plt.subplot(1, 2, 1)\n",
    "plt.plot(epochs_range, acc, label='Training Accuracy')\n",
    "plt.plot(epochs_range, val_acc, label='Validation Accuracy')\n",
    "plt.legend(loc='lower right')\n",
    "plt.title('Training and Validation Accuracy')\n",
    "\n",
    "plt.subplot(1, 2, 2)\n",
    "plt.plot(epochs_range, loss, label='Training Loss')\n",
    "plt.plot(epochs_range, val_loss, label='Validation Loss')\n",
    "plt.legend(loc='upper right')\n",
    "plt.title('Training and Validation Loss')\n",
    "plt.show()"
   ]
  },
  {
   "cell_type": "code",
   "execution_count": null,
   "metadata": {
    "colab": {
     "base_uri": "https://localhost:8080/"
    },
    "id": "5EntRuaVjznp",
    "outputId": "dbeceadc-a26d-46ab-b861-5eaf4aeeede8"
   },
   "outputs": [
    {
     "name": "stdout",
     "output_type": "stream",
     "text": [
      "Model: \"sequential_1\"\n",
      "_________________________________________________________________\n",
      "Layer (type)                 Output Shape              Param #   \n",
      "=================================================================\n",
      "sequential (Sequential)      (None, 224, 224, 3)       0         \n",
      "_________________________________________________________________\n",
      "rescaling (Rescaling)        (None, 224, 224, 3)       0         \n",
      "_________________________________________________________________\n",
      "conv2d (Conv2D)              (None, 224, 224, 16)      448       \n",
      "_________________________________________________________________\n",
      "max_pooling2d (MaxPooling2D) (None, 112, 112, 16)      0         \n",
      "_________________________________________________________________\n",
      "conv2d_1 (Conv2D)            (None, 112, 112, 32)      4640      \n",
      "_________________________________________________________________\n",
      "max_pooling2d_1 (MaxPooling2 (None, 56, 56, 32)        0         \n",
      "_________________________________________________________________\n",
      "conv2d_2 (Conv2D)            (None, 56, 56, 64)        18496     \n",
      "_________________________________________________________________\n",
      "max_pooling2d_2 (MaxPooling2 (None, 28, 28, 64)        0         \n",
      "_________________________________________________________________\n",
      "dropout (Dropout)            (None, 28, 28, 64)        0         \n",
      "_________________________________________________________________\n",
      "flatten (Flatten)            (None, 50176)             0         \n",
      "_________________________________________________________________\n",
      "dense (Dense)                (None, 128)               6422656   \n",
      "_________________________________________________________________\n",
      "dense_1 (Dense)              (None, 2)                 258       \n",
      "=================================================================\n",
      "Total params: 6,446,498\n",
      "Trainable params: 6,446,498\n",
      "Non-trainable params: 0\n",
      "_________________________________________________________________\n"
     ]
    }
   ],
   "source": [
    "model.summary()"
   ]
  },
  {
   "cell_type": "code",
   "execution_count": null,
   "metadata": {
    "colab": {
     "base_uri": "https://localhost:8080/"
    },
    "id": "EYXImOJbj7dc",
    "outputId": "1aab26ed-6569-4d32-9504-9acde8cfec12"
   },
   "outputs": [
    {
     "name": "stdout",
     "output_type": "stream",
     "text": [
      "INFO:tensorflow:Assets written to: /content/drive/MyDrive/COVIDNetV2/assets\n"
     ]
    }
   ],
   "source": [
    "path = '/content/drive/MyDrive/COVIDNetV2'\n",
    "model.save(path) # Convert into SavedModel format"
   ]
  },
  {
   "cell_type": "markdown",
   "metadata": {
    "id": "6oK7lGSa3Wz9"
   },
   "source": [
    "<h1>All the modifications performed:</h1>\n",
    "\n",
    "<li>Constant default (0.001) Default Learning Rate with Adam optimizer, for 10 epochs. Accuracy - 0.916</li>\n",
    "<li>Constant default (0.001) Default Learning Rate with Adam optimizer, for 15 epochs, with data augmentation of Horizontal RandomFlip and RandomZoom(0.1). Accuracy - 0.93</li>\n",
    "<li>Constant default (0.001) Default Learning Rate with Adam optimizer, for 10 epochs, with data augmentation of Horizontal RandomFlip, RandomZoom(0.15), RandomContrast(0.15). Accuracy - ~0.9</li>\n",
    "<li>Constant default (0.001) Default Learning Rate with Adam optimizer, for 20 epochs, with data augmentation of Horizontal RandomFlip, RandomZoom(0.15), RandomContrast(0.15). Accuracy - ~0.9</li>\n",
    "<li>Initial Learning Rate is Default (0.001) Learning Rate with Adam optimizer which increases by 0.01 with every epoch, for 50 epochs, with data augmentation of RandomZoom(0.15), RandomContrast(0.15). Accuracy - 0.8905 (was constant throughout from first epoch to the last one)</li>\n",
    "<li>Constant default (0.001) Default Learning Rate with Adam optimizer, for 50 epochs, with data augmentation of RandomZoom(0.15), RandomContrast(0.15). Accuracy - 0.9406</li>\n",
    "<h3> The following modifications were run with a Batch Size - 32</h3>\n",
    "<li>Constant default (0.001) Default Learning Rate with Adam optimizer, for 50 epochs, with data augmentation of RandomZoom(0.15), RandomContrast(0.15). Batch Size - 32, Accuracy - 0.9703.</li>\n",
    "<li>Decreasing Learning Rate. Initial: 0.001, After Epoch 11: 0.00075, After Epoch 20: 0.0005, After Epoch 40: 0.0001 with Adam optimizer for 50 epochs (Step=393). Data augmentation of RandomZoom(0.15), RandomContrast(0.15). Batch Size: 32 (To accomodate in Colab). Accuracy - 0.9739</li>\n",
    "<li>Constant (0.01) Default Learning Rate with SGD optimizer, for 50 epochs, with data augmentation of RandomZoom(0.15), RandomContrast(0.15). Accuracy - 0.9624</li>\n",
    "<li>Constant (0.001) Learning Rate with SGD optimizer, for 50 epochs, with data augmentation of RandomZoom(0.15), RandomContrast(0.15). Accuracy - 0.9308</li>\n",
    "<li>Decreasing Learning Rate with SGD optimizer. Initial: 0.001, After Epoch 11: 0.00075, After Epoch 20: 0.0005, After Epoch 40: 0.0001 with Adam optimizer for 50 epochs (Step=393). Data augmentation of RandomZoom(0.15), RandomContrast(0.15). Batch Size: 32 (To accomodate in Colab). Accuracy - 0.926</li>\n",
    "<li>Constant (0.001) Learning Rate with Adagrad optimizer, for 50 epochs, with data augmentation of RandomZoom(0.15), RandomContrast(0.15). Accuracy - 0.9375</li>\n",
    "<li>Constant (0.001) Learning Rate with RMSprop optimizer, for 50 epochs, with data augmentation of RandomZoom(0.15), RandomContrast(0.15). Accuracy - 0.9483. The validation loss graph is very haphazard and not following a path.</li>\n",
    "<h2>Final Model Specification:</h2>\n",
    "<li>Constant (0.001) Default Learning Rate, Adam optimizer, 50 epochs, data augmentation of RandomZoom(0.15), RandomContrast(0.15), Batch Size - 32, Accuracy - 0.9742</li>"
   ]
  },
  {
   "cell_type": "code",
   "execution_count": null,
   "metadata": {
    "id": "jFv942J-3uGi"
   },
   "outputs": [],
   "source": []
  }
 ],
 "metadata": {
  "accelerator": "GPU",
  "colab": {
   "collapsed_sections": [],
   "name": "Create-COVIDNet.ipynb",
   "provenance": []
  },
  "kernelspec": {
   "display_name": "Python 3",
   "language": "python",
   "name": "python3"
  },
  "language_info": {
   "codemirror_mode": {
    "name": "ipython",
    "version": 3
   },
   "file_extension": ".py",
   "mimetype": "text/x-python",
   "name": "python",
   "nbconvert_exporter": "python",
   "pygments_lexer": "ipython3",
   "version": "3.8.5"
  }
 },
 "nbformat": 4,
 "nbformat_minor": 1
}
